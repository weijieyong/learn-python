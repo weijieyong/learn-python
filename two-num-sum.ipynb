{
 "metadata": {
  "language_info": {
   "codemirror_mode": {
    "name": "ipython",
    "version": 3
   },
   "file_extension": ".py",
   "mimetype": "text/x-python",
   "name": "python",
   "nbconvert_exporter": "python",
   "pygments_lexer": "ipython3",
   "version": "3.9.1-final"
  },
  "orig_nbformat": 2,
  "kernelspec": {
   "name": "python3",
   "display_name": "Python 3.9.1 64-bit",
   "metadata": {
    "interpreter": {
     "hash": "b1667ff4715d7a406ab5e3ac84c5e8da95ab95bf6952944a983dc08b48465cd3"
    }
   }
  }
 },
 "nbformat": 4,
 "nbformat_minor": 2,
 "cells": [
  {
   "source": [
    "# Two Number Sum\n",
    "\n",
    "input: non-empty array of distinct integers; targetSum (integer)\n",
    "\n",
    "output: array (in any order), if no.. return empty array\n",
    "\n",
    "* cant add itself\n",
    "* at most one pair\n",
    "\n",
    "> Example\n",
    "\n",
    "- input: `array = [3, 5, -4, 8, 11, 1, -1, 6]; targetSum = 10`\n",
    "- output: `[-1, 11]`\n"
   ],
   "cell_type": "markdown",
   "metadata": {}
  },
  {
   "source": [
    "# deduct and find the other number, and check is it itself\n",
    "def twoNumberSum(array, targetSum):\n",
    "    for i in array:\n",
    "        # print(i)\n",
    "        if targetSum - i in array and array.index(i) != array.index(targetSum - i):\n",
    "            return [i, targetSum - i]\n",
    "    return []\n",
    "\n",
    "twoNumberSum([3, 5, -4, 8, 11, 1, -1, 6], 10)\n"
   ],
   "cell_type": "code",
   "metadata": {},
   "execution_count": 23,
   "outputs": [
    {
     "output_type": "stream",
     "name": "stdout",
     "text": [
      "3\n5\n-4\n8\n11\n"
     ]
    },
    {
     "output_type": "execute_result",
     "data": {
      "text/plain": [
       "[11, -1]"
      ]
     },
     "metadata": {},
     "execution_count": 23
    }
   ]
  },
  {
   "cell_type": "code",
   "execution_count": 22,
   "metadata": {},
   "outputs": [],
   "source": [
    "array = [1,3,5]\n",
    "# for i in array:\n",
    "#     print(i)\n",
    "x = 4\n",
    "if x in array:\n",
    "    print('found it')"
   ]
  },
  {
   "cell_type": "code",
   "execution_count": null,
   "metadata": {},
   "outputs": [],
   "source": []
  }
 ]
}