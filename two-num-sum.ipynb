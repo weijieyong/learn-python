{
 "metadata": {
  "language_info": {
   "codemirror_mode": {
    "name": "ipython",
    "version": 3
   },
   "file_extension": ".py",
   "mimetype": "text/x-python",
   "name": "python",
   "nbconvert_exporter": "python",
   "pygments_lexer": "ipython3",
   "version": "3.9.1-final"
  },
  "orig_nbformat": 2,
  "kernelspec": {
   "name": "python3",
   "display_name": "Python 3.9.1 64-bit",
   "metadata": {
    "interpreter": {
     "hash": "b1667ff4715d7a406ab5e3ac84c5e8da95ab95bf6952944a983dc08b48465cd3"
    }
   }
  }
 },
 "nbformat": 4,
 "nbformat_minor": 2,
 "cells": [
  {
   "source": [
    "# Two Number Sum\n",
    "\n",
    "input: non-empty array of distinct integers; targetSum (integer)\n",
    "\n",
    "output: array (in any order), if no.. return empty array\n",
    "\n",
    "* cant add itself\n",
    "* at most one pair\n",
    "\n",
    "> Example\n",
    "\n",
    "- input: `array = [3, 5, -4, 8, 11, 1, -1, 6]; targetSum = 10`\n",
    "- output: `[-1, 11]`\n"
   ],
   "cell_type": "markdown",
   "metadata": {}
  },
  {
   "source": [
    "# deduct and find the other number, and check is it itself\n",
    "def twoNumberSum(array, targetSum):\n",
    "    for i in array:\n",
    "        # print(i)\n",
    "        if targetSum - i in array and array.index(i) != array.index(targetSum - i):\n",
    "            return [i, targetSum - i]\n",
    "    return []\n",
    "\n",
    "twoNumberSum([4, 5, -4, 8, 11, 1, -1, 6], 4)\n",
    "\n",
    "# time O(N^2)| space O()"
   ],
   "cell_type": "code",
   "metadata": {},
   "execution_count": 28,
   "outputs": [
    {
     "output_type": "execute_result",
     "data": {
      "text/plain": [
       "[5, -1]"
      ]
     },
     "metadata": {},
     "execution_count": 28
    }
   ]
  },
  {
   "cell_type": "code",
   "execution_count": 37,
   "metadata": {},
   "outputs": [
    {
     "output_type": "execute_result",
     "data": {
      "text/plain": [
       "[5, -1]"
      ]
     },
     "metadata": {},
     "execution_count": 37
    }
   ],
   "source": [
    "#brute force\n",
    "def twoNumberSum(array, targetSum):\n",
    "    sumArray = []\n",
    "    for i in array:\n",
    "        for j in array:\n",
    "            if i != j and targetSum == i+j:\n",
    "                return [i,j]\n",
    "    return []      \n",
    "\n",
    "twoNumberSum([4, 5, -4, 8, 11, 1, -1, 6], 4)"
   ]
  },
  {
   "cell_type": "code",
   "execution_count": 55,
   "metadata": {},
   "outputs": [
    {
     "output_type": "execute_result",
     "data": {
      "text/plain": [
       "[-1, 11]"
      ]
     },
     "metadata": {},
     "execution_count": 55
    }
   ],
   "source": [
    "# 2 pointer method\n",
    "# O(nlog(n)) | O(1)\n",
    "def twoNumberSum(array, targetSum):\n",
    "    array.sort()\n",
    "    leftIndex = 0\n",
    "    rightIndex = len(array)-1\n",
    "    while (leftIndex != rightIndex):\n",
    "        if array[leftIndex] + array[rightIndex] < targetSum:\n",
    "            leftIndex += 1\n",
    "        elif array[leftIndex] + array[rightIndex] > targetSum:\n",
    "            rightIndex -= 1\n",
    "        else:\n",
    "            return [array[leftIndex], array[rightIndex]]\n",
    "    return []\n",
    "\n",
    "twoNumberSum([3, 5, -4, 8, 11, 1, -1, 6], 10)"
   ]
  },
  {
   "source": [
    "### Algo's ans"
   ],
   "cell_type": "markdown",
   "metadata": {}
  },
  {
   "cell_type": "code",
   "execution_count": 67,
   "metadata": {},
   "outputs": [
    {
     "output_type": "execute_result",
     "data": {
      "text/plain": [
       "[3, 8]"
      ]
     },
     "metadata": {},
     "execution_count": 67
    }
   ],
   "source": [
    "#brute force\n",
    "# O(N^2) | O(1)\n",
    "def twoNumberSum(array, targetSum):\n",
    "    for i in range(len(array)-1):\n",
    "        for j in range(i+1, len(array)):\n",
    "            if array[i] + array[j] == targetSum:\n",
    "                return [array[i], array[j]]\n",
    "    return []      \n",
    "\n",
    "twoNumberSum([3, 5, -4, 8, 11, 1, -1, 6], 11)"
   ]
  },
  {
   "cell_type": "code",
   "execution_count": 75,
   "metadata": {},
   "outputs": [
    {
     "output_type": "stream",
     "name": "stdout",
     "text": [
      "{}\n{3: True}\n{3: True, 5: True}\n{3: True, 5: True, -4: True}\n{3: True, 5: True, -4: True, 8: True}\n{3: True, 5: True, -4: True, 8: True, 11: True}\n{3: True, 5: True, -4: True, 8: True, 11: True, 1: True}\n"
     ]
    },
    {
     "output_type": "execute_result",
     "data": {
      "text/plain": [
       "[11, -1]"
      ]
     },
     "metadata": {},
     "execution_count": 75
    }
   ],
   "source": [
    "#using hash table\n",
    "# O(N):loop through once | O(N): hash table to store\n",
    "# use space but fast\n",
    "def twoNumberSum(array, targetSum):\n",
    "    nums = {}\n",
    "    for num in array:\n",
    "        print(nums)\n",
    "        potentialMatch = targetSum - num\n",
    "        if potentialMatch in nums:\n",
    "            return [potentialMatch, num]\n",
    "        else:\n",
    "            nums[num] = True\n",
    "    return []\n",
    "   \n",
    "\n",
    "twoNumberSum([3, 5, -4, 8, 11, 1, -1, 6], 10)\n"
   ]
  },
  {
   "cell_type": "code",
   "execution_count": null,
   "metadata": {},
   "outputs": [],
   "source": []
  }
 ]
}