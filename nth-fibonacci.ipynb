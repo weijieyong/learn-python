{
 "metadata": {
  "language_info": {
   "codemirror_mode": {
    "name": "ipython",
    "version": 3
   },
   "file_extension": ".py",
   "mimetype": "text/x-python",
   "name": "python",
   "nbconvert_exporter": "python",
   "pygments_lexer": "ipython3",
   "version": "3.9.1-final"
  },
  "orig_nbformat": 2,
  "kernelspec": {
   "name": "python3",
   "display_name": "Python 3.9.1 64-bit",
   "metadata": {
    "interpreter": {
     "hash": "b1667ff4715d7a406ab5e3ac84c5e8da95ab95bf6952944a983dc08b48465cd3"
    }
   }
  }
 },
 "nbformat": 4,
 "nbformat_minor": 2,
 "cells": [
  {
   "source": [
    "# N-th Fibonacci\n",
    "\n",
    "write a function that takes an integer `n` and returns the n-th Fibonacci number (starts from 0)"
   ],
   "cell_type": "markdown",
   "metadata": {}
  },
  {
   "cell_type": "code",
   "execution_count": 17,
   "metadata": {},
   "outputs": [
    {
     "output_type": "execute_result",
     "data": {
      "text/plain": [
       "5"
      ]
     },
     "metadata": {},
     "execution_count": 17
    }
   ],
   "source": [
    "# recursive\n",
    "# time O(2^N)\n",
    "# space O(N) : doing recursive calls, using up frames on the call stack\n",
    "def getNthFib(n):\n",
    "    if n == 1:\n",
    "        return 0\n",
    "    elif n == 2:\n",
    "        return 1\n",
    "    else:\n",
    "        return getNthFib(n-1) + getNthFib(n-2)\n",
    "\n",
    "getNthFib(6)"
   ]
  },
  {
   "source": [
    "### After watching explaination"
   ],
   "cell_type": "markdown",
   "metadata": {}
  },
  {
   "cell_type": "code",
   "execution_count": 25,
   "metadata": {},
   "outputs": [
    {
     "output_type": "execute_result",
     "data": {
      "text/plain": [
       "2"
      ]
     },
     "metadata": {},
     "execution_count": 25
    }
   ],
   "source": [
    "#iterative\n",
    "def getNthFib(n):\n",
    "    array = [0,1]\n",
    "    count = 2\n",
    "    if n == 1:\n",
    "        return 0\n",
    "    elif n == 2:\n",
    "        return 1\n",
    "    else:\n",
    "        while count < n:\n",
    "            next = array[0] + array[1]\n",
    "            array[0] = array[1]\n",
    "            array[1] = next\n",
    "            count += 1\n",
    "        return array[1]\n",
    "\n",
    "getNthFib(4)"
   ]
  },
  {
   "source": [
    "### Algo's solution"
   ],
   "cell_type": "markdown",
   "metadata": {}
  },
  {
   "cell_type": "code",
   "execution_count": 16,
   "metadata": {},
   "outputs": [
    {
     "output_type": "execute_result",
     "data": {
      "text/plain": [
       "5"
      ]
     },
     "metadata": {},
     "execution_count": 16
    }
   ],
   "source": [
    "# memoization\n",
    "# O(N) time | O(N) space\n",
    "def getNthFib(n, table = {1:0, 2:1}):\n",
    "    if n in table:\n",
    "        return table[n]\n",
    "    else:\n",
    "        table[n] = getNthFib(n-1, table) + getNthFib(n-2, table)\n",
    "        return table[n]\n",
    "\n",
    "getNthFib(6)"
   ]
  },
  {
   "cell_type": "code",
   "execution_count": 29,
   "metadata": {},
   "outputs": [
    {
     "output_type": "execute_result",
     "data": {
      "text/plain": [
       "1"
      ]
     },
     "metadata": {},
     "execution_count": 29
    }
   ],
   "source": [
    "#iterative\n",
    "# O(N) time | O(1) space\n",
    "def getNthFib(n):\n",
    "    lastTwo = [0, 1]\n",
    "    counter = 3\n",
    "    while counter <= n:\n",
    "        next = lastTwo[0] + lastTwo[1]\n",
    "        lastTwo[0] = lastTwo[1]\n",
    "        lastTwo[1] = next\n",
    "        counter += 1\n",
    "    return lastTwo[1] if n > 1 else lastTwo[0]\n",
    "\n",
    "getNthFib(2)"
   ]
  }
 ]
}